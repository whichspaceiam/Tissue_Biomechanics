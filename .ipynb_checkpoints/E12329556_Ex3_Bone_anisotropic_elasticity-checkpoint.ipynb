{
 "cells": [
  {
   "cell_type": "markdown",
   "id": "69826bc7-d451-451e-a924-9f16123548d3",
   "metadata": {},
   "source": [
    "##  Bone anisotropic elasticity\n",
    "![image](Tutorial_3.png)\n",
    "\n",
    "We have a cylindrical bone specimen form the femoral neck.\n",
    "\n",
    "For Cortical Bone assuming transversely isotropic material\n",
    "| Parameter | Symbol | Value | Unit  |\n",
    "|-----------|--------|-------|-------|\n",
    "| Diameter | $d$ | 40 | mm |\n",
    "| Thickness | $t$ | 2 | mm |\n",
    "| Length | $l$ | 15 | mm |\n",
    "| Force | $P$ | 250 | N |\n",
    "| Young's Modulus | $E_1$ | 20 | GPa |\n",
    "| Young's Modulus | $E_2$ | 15 | GPa |\n",
    "| Shear Modulus | $\\mu_1$ | 6 | GPa |\n",
    "| Shear Modulus | $\\mu_2$ | 9 | GPa |\n",
    "| Poisson's ratio | $\\nu_1$ | 0.3 | - |\n",
    "| Poisson's ratio | $\\nu_2$ | 0.3 | - |\n",
    "\n",
    "$$\n",
    "\\begin{bmatrix}\n",
    "\\varepsilon_{11} \\\\\n",
    "\\varepsilon_{22} \\\\\n",
    "\\varepsilon_{33} \\\\\n",
    "\\varepsilon_{23} \\\\\n",
    "\\varepsilon_{13} \\\\\n",
    "\\varepsilon_{12}\n",
    "\\end{bmatrix}\n",
    "=\n",
    "\\begin{bmatrix}\n",
    "\\frac{1}{E_1} & \\frac{ -\\nu_1}{E_2} & \\frac{-\\nu_1}{E_2} & 0 & 0 & 0 \\\\\n",
    "\\frac{-\\nu_1}{E_1} & \\frac{1}{E_2} & \\frac{-\\nu_2}{E_2} & 0 & 0 & 0  \\\\\n",
    "\\frac{-\\nu_1}{E_1} & \\frac{-v_2}{E_2} & \\frac{1}{E_2} & 0 & 0 & 0 \\\\\n",
    "0 & 0 & 0 & \\frac{1}{2\\mu_2} & 0 & 0 \\\\\n",
    "0 & 0 & 0 & 0 & \\frac{1}{2\\mu_1} & 0 \\\\\n",
    "0 & 0 & 0 & 0 & 0 & \\frac{1}{2\\mu_2} \n",
    "\\end{bmatrix}\n",
    "\\begin{bmatrix}\n",
    "\\sigma_{11} \\\\\n",
    "\\sigma_{22} \\\\\n",
    "\\sigma_{33} \\\\\n",
    "\\sigma_{23} \\\\\n",
    "\\sigma_{13} \\\\\n",
    "\\sigma_{12}\n",
    "\\end{bmatrix}\n",
    "$$\n",
    "\n",
    "\n",
    "we are also assuming a uniaxial compressive load of 250 N, the stress field forms:\n",
    "\n",
    "$$ \\sigma = \n",
    "\\begin{bmatrix}\n",
    "\\sigma_{11} & 0 & 0 \\\\\n",
    "0 & 0 & 0 \\\\\n",
    "0 & 0 & 0\n",
    "\\end{bmatrix}\n",
    "$$\n",
    "\n",
    "Uniaxial homogeneous stress states, only $\\sigma_{11} \\neq 0$ : \n",
    "\n",
    "$\\sigma_{11} = \\frac{F}{A}$ \n",
    "\n",
    "$A_{cortical} = \\pi \\cdot [r^2_{o} - r^2_{i}]$\n",
    "\n",
    "Here $r_0$ is  outer radius 20 mm and $r_i$ is inner radius 18 mm."
   ]
  },
  {
   "cell_type": "code",
   "execution_count": 34,
   "id": "c9615801-5d50-4373-b90b-cda7b3baecc2",
   "metadata": {},
   "outputs": [
    {
     "name": "stdout",
     "output_type": "stream",
     "text": [
      "Area of Cortical Bone:  238.76104167282426 mm^2\n",
      "Uniaxial homogeneous stress:  1.0470719940256272 MPa\n"
     ]
    }
   ],
   "source": [
    "import matplotlib.pyplot as plt\n",
    "import numpy as np\n",
    "import math\n",
    "\n",
    "r_o = 20 # mm\n",
    "r_i = 18 # mm\n",
    "l =15 # mm\n",
    "E1 = 20e3 # MPa\n",
    "E2 = 15e3 # Mpa\n",
    "mu1 = 6e3 # MPa\n",
    "mu2 = 9e3 # Mpa\n",
    "nu1 = nu2 = 0.3 \n",
    "P = 250 # N\n",
    "\n",
    "# Compute area of Cortical Bone\n",
    "A_c = math.pi * (r_o**2- r_i**2)\n",
    "print(\"Area of Cortical Bone: \", A_c, \"mm^2\" )\n",
    "\n",
    "# stress\n",
    "s11 = P / A_c \n",
    "print(\"Uniaxial homogeneous stress: \" , s11,  \"MPa\" )\n"
   ]
  },
  {
   "cell_type": "markdown",
   "id": "8b468f64-8bdf-4205-b17e-5e1d9d471ad9",
   "metadata": {},
   "source": [
    "Vector of stress components: \n",
    "$$\n",
    "\\sigma = [\\sigma_{11} \\hspace{0.5cm} \\sigma_{22} \\hspace{0.5cm} \\sigma_{33} \\hspace{0.5cm} \\sigma_{23} \\hspace{0.5cm} \\sigma_{13} \\hspace{0.5cm} \\sigma_{12}]^T = [1.047 \\hspace{0.5cm} 0 \\hspace{0.5cm} 0 \\hspace{0.5cm} 0 \\hspace{0.5cm} 0 \\hspace{0.5cm} 0]^T \\hspace{0.4cm} \\text{MPa}\n",
    "$$ \n",
    "\n",
    "Vector of strain componnets:\n",
    "$$\\varepsilon = [\\varepsilon_{11} \\hspace{0.5cm} \\varepsilon_{22} \\hspace{0.5cm} \\varepsilon_{33} \\hspace{0.5cm} \\varepsilon_{23} \\hspace{0.5cm} \\varepsilon_{13} \\hspace{0.5cm} \\varepsilon_{12}]^T \\hspace{0.5cm} $$"
   ]
  },
  {
   "cell_type": "code",
   "execution_count": 35,
   "id": "e0ac3dd1-c158-424d-91b5-032061f48fd0",
   "metadata": {},
   "outputs": [
    {
     "name": "stdout",
     "output_type": "stream",
     "text": [
      "Strain components:\n",
      "[ 5.23535997e-05 -1.57060799e-05 -1.57060799e-05  0.00000000e+00\n",
      "  0.00000000e+00  0.00000000e+00]\n"
     ]
    }
   ],
   "source": [
    "# Compliance matrix (inverse of stiffness matrix)\n",
    "C_c = np.array([\n",
    "    [1/E1, -nu1/E1, -nu1/E2, 0, 0, 0],\n",
    "    [-nu1/E1, 1/E2, -nu2/E2, 0, 0, 0],\n",
    "    [-nu1/E1, -nu2/E2, 1/E2, 0, 0, 0],\n",
    "    [0, 0, 0, 1/(2*mu2), 0, 0],\n",
    "    [0, 0, 0, 0, 1/(2*mu1), 0],\n",
    "    [0, 0, 0, 0, 0, 1/(2*mu1)]\n",
    "])\n",
    "sigma = np.array([s11, 0, 0, 0, 0, 0])\n",
    "epsilon = np.dot(C_c, sigma)\n",
    "print(\"Strain components:\")\n",
    "print(epsilon)"
   ]
  },
  {
   "cell_type": "markdown",
   "id": "4047c297-f189-4e59-8b03-60ddb88fb35a",
   "metadata": {},
   "source": [
    "Using Hooke's Law: \n",
    "$$ \\varepsilon = C^{-1} \\cdot \\sigma = [5.235 \\cdot 10^{-5} \\hspace{0.5cm} -1.571 \\cdot 10^{-5} \\hspace{0.5cm} -1.571 \\cdot 10^{-5} \\hspace{0.5cm} 0 \\hspace{0.5cm} 0 \\hspace{0.5cm} 0]^T$$\n",
    "\n",
    "Stress and strain tensor of cortical bone:\n",
    "\n",
    "Stress Tensor: \n",
    "$$\\sigma = \\begin{bmatrix}\n",
    "1.047 & 0 & 0 \\\\\n",
    "0 & 0 & 0 \\\\\n",
    "0 & 0 & 0\n",
    "\\end{bmatrix}\n",
    "\\hspace{0.5cm} \\text{MPa}\n",
    "$$\n",
    "\n",
    "Strain Tensor: \n",
    "$$\\varepsilon = \\begin{bmatrix}\n",
    "5.235 \\cdot 10^{-5} & 0 & 0 \\\\\n",
    "0 & -1.571 \\cdot 10^{-5} & 0 \\\\\n",
    "0 & 0 & -1.571 \\cdot 10^{-5}\n",
    "\\end{bmatrix}\n",
    "\\hspace{0.5cm}\n",
    "$$\n",
    "\n",
    "\n",
    "For Trabecular Bone assuming orthotropic behavior\n",
    "| Parameter | Symbol | Value | Unit  |\n",
    "|-----------|--------|-------|-------|\n",
    "| Diameter | $d$ | 36 | mm |\n",
    "| Length | $l$ | 15 | mm |\n",
    "| Density | $\\rho$ | 0.34 | g/$cm^3$ |\n",
    "| Force | $P$ | 250 | N |\n",
    "| MIL tensor | $m_1$ | 1.25 | mm |\n",
    "| MIL tensor | $m_2$ | 1 | mm |\n",
    "| MIL tensor | $m_3$ | 0.8 | mm |\n",
    "| Constant | $k$ | 1.45 | - |\n",
    "| Constant | $l$ | 1.3 | - |\n",
    "| Young's Modulus | $E$ | 7.5 | GPa |\n",
    "| Shear Modulus | $\\mu$ | 3 | GPa |\n",
    "| Poisson's ratio | $\\nu_1$ | 0.3 | - |\n",
    "| Rotation axis | e`1 | 15 | degree |\n",
    "\n",
    "$$\n",
    "\\begin{bmatrix}\n",
    "\\varepsilon_{11} \\\\\n",
    "\\varepsilon_{22} \\\\\n",
    "\\varepsilon_{33} \\\\\n",
    "\\varepsilon_{23} \\\\\n",
    "\\varepsilon_{13} \\\\\n",
    "\\varepsilon_{12}\n",
    "\\end{bmatrix}\n",
    "=\n",
    "\\begin{bmatrix}\n",
    "\\frac{1}{E \\rho^k m_1^{2l}} & \\frac{ -\\nu_1}{E \\rho^k m_1^l m_2^{l}} & \\frac{-\\nu_1}{E \\rho^k m_1^l m_3^{l}} & 0 & 0 & 0 \\\\\n",
    "\\frac{-\\nu_1}{E \\rho^k m_1^l m_2^{l}} & \\frac{1}{E \\rho^k m_2^{2l}} & \\frac{-\\nu_2}{E \\rho^k m_2^l m_3^{l}} & 0 & 0 & 0  \\\\\n",
    "\\frac{-\\nu_1}{E \\rho^k m_1^l m_3^{l}} & \\frac{-v_2}{E \\rho^k m_2^l m_3^{l}} & \\frac{1}{E \\rho^k m_3^{2l}} & 0 & 0 & 0 \\\\\n",
    "0 & 0 & 0 & \\frac{1}{2\\mu_2 \\rho^k m_2^l m_3^{l}} & 0 & 0 \\\\\n",
    "0 & 0 & 0 & 0 & \\frac{1}{2\\mu \\rho^k m_1^l m_3^{l}} & 0 \\\\\n",
    "0 & 0 & 0 & 0 & 0 & \\frac{1}{2\\mu_2 \\rho^k m_1^l m_2^{l}}\n",
    "\\end{bmatrix}\n",
    "\\begin{bmatrix}\n",
    "\\sigma_{11} \\\\\n",
    "\\sigma_{22} \\\\\n",
    "\\sigma_{33} \\\\\n",
    "\\sigma_{23} \\\\\n",
    "\\sigma_{13} \\\\\n",
    "\\sigma_{12}\n",
    "\\end{bmatrix}\n",
    "$$"
   ]
  },
  {
   "cell_type": "code",
   "execution_count": 36,
   "id": "226be79a-bba0-4644-8c7f-f2dcde5fc571",
   "metadata": {},
   "outputs": [
    {
     "name": "stdout",
     "output_type": "stream",
     "text": [
      "Area of Trabecularl Bone:  1017.8760197630929 mm^2\n",
      "Uniaxial homogeneous stress:  0.2456094800800854 MPa\n"
     ]
    }
   ],
   "source": [
    "r = 18 # mm\n",
    "rho = 0.00035 # g/mm^3\n",
    "m1 = 1.25 # mm\n",
    "m2 = 1 # mm\n",
    "m3 = 0.8 # mm\n",
    "k = 1.45\n",
    "l = 1.3\n",
    "E = 7.5e3 # Mpa\n",
    "mu = 3e3 # Mpa\n",
    "nu = 0.3\n",
    "\n",
    "# Commpute area for trabecular bone\n",
    "A_t = math.pi * r**2\n",
    "print(\"Area of Trabecularl Bone: \", A_t, \"mm^2\" )\n",
    "\n",
    "s_11 = P / A_t\n",
    "print(\"Uniaxial homogeneous stress: \" , s_11,  \"MPa\" )"
   ]
  },
  {
   "cell_type": "markdown",
   "id": "56c27a17-2f98-4f65-bc6c-68ddeac32616",
   "metadata": {},
   "source": [
    "Vector of stress components: \n",
    "$$\n",
    "\\sigma = [\\sigma_{11} \\hspace{0.5cm} \\sigma_{22} \\hspace{0.5cm} \\sigma_{33} \\hspace{0.5cm} \\sigma_{23} \\hspace{0.5cm} \\sigma_{13} \\hspace{0.5cm} \\sigma_{12}]^T = [0.246 \\hspace{0.5cm} 0 \\hspace{0.5cm} 0 \\hspace{0.5cm} 0 \\hspace{0.5cm} 0 \\hspace{0.5cm} 0]^T \\hspace{0.4cm} \\text{MPa}\n",
    "$$ \n",
    "\n",
    "Vector of strain componnets:\n",
    "$$\\varepsilon = [\\varepsilon_{11} \\hspace{0.5cm} \\varepsilon_{22} \\hspace{0.5cm} \\varepsilon_{33} \\hspace{0.5cm} \\varepsilon_{23} \\hspace{0.5cm} \\varepsilon_{13} \\hspace{0.5cm} \\varepsilon_{12}]^T \\hspace{0.5cm} $$"
   ]
  },
  {
   "cell_type": "code",
   "execution_count": 37,
   "id": "c7e250d5-e19c-4913-a5ab-29307e6eec15",
   "metadata": {},
   "outputs": [
    {
     "name": "stdout",
     "output_type": "stream",
     "text": [
      "Uniaxial homogeneous stress on trabecular bone:  0.2456094800800854 MPa\n"
     ]
    }
   ],
   "source": [
    "# Compliance matrix (inverse of stiffness matrix)\n",
    "C_t = np.array([\n",
    "    [1/(E*rho**k * m1**2.6), -nu/(E*rho**k * m1**l * m2**l), -nu/(E*rho**k * m1**l * m3**l), 0, 0, 0],\n",
    "    [-nu/(E*rho**k * m1**l * m2**l), 1/(E*rho**k * m2**2.6), -nu/(E*rho**k * m2**l * m3**l), 0, 0, 0],\n",
    "    [-nu/(E*rho**k * m1**l * m3**l), -nu/(E*rho**k * m2**l * m3**l), 1/(E*rho**k * m3**2.6), 0, 0, 0],\n",
    "    [0, 0, 0, 1/(2*mu*rho**k * m2**l * m3**l), 0, 0],\n",
    "    [0, 0, 0, 0, 1/(2*mu*rho**k * m1**l * m3**l), 0],\n",
    "    [0, 0, 0, 0, 0, 1/(2*mu*rho**k * m1**l * m2**l)]\n",
    "])\n",
    "\n",
    "# Sigma as a column vector (6x1 matrix)\n",
    "sigma = np.array([s_11, 0, 0, 0, 0, 0])\n",
    "\n",
    "print(\"Uniaxial homogeneous stress on trabecular bone: \" , s_11,  \"MPa\" )"
   ]
  },
  {
   "cell_type": "markdown",
   "id": "1f533592-94bc-44c8-8741-55e0f43b9573",
   "metadata": {},
   "source": [
    "Now we rotate $15^\\circ$ clockwise, which we rotate around e3. Since $\\sigma_{33}, \\sigma_{13}, \\sigma_{23}$ are zero, this simplifies things a lot we are effectively working in 2D plane stress, and goal is to compute the transformed stress components in the rotated frame.\n",
    "\n",
    "In 2D, the rotated stress components are: \n",
    "\n",
    "$$\\sigma'_{11} = \\sigma_{11} \\cos^2\\theta + \\sigma_{22} \\sin^2\\theta + 2\\sigma_{12} \\sin\\theta \\cos\\theta$$\n",
    "$$\\sigma'_{22} = \\sigma_{11} \\sin^2\\theta + \\sigma_{22} \\cos^2\\theta - 2\\sigma_{12} \\sin\\theta \\cos\\theta $$\n",
    "$$\\sigma'_{12} = (\\sigma_{22} - \\sigma_{11}) \\sin\\theta \\cos\\theta + \\sigma_{12} (\\cos^2\\theta - \\sin^2\\theta)$$\n",
    "\n",
    "$$ \\sigma_{22} = 0  \\hspace{0.5cm}\\text{and}\\hspace{0.5cm}  \\sigma_{12} = 0 $$\n",
    "$$ \\sigma'_{11} = \\sigma_{11} \\cos^2\\theta $$\n",
    "$$ \\sigma'_{22} = \\sigma_{11} \\sin^2\\theta $$\n",
    "$$ \\sigma'_{12} = -\\sigma_{11} \\sin\\theta \\cos\\theta $$"
   ]
  },
  {
   "cell_type": "code",
   "execution_count": 38,
   "id": "6e0baa44-dfe7-41f4-b75f-bb023746cf4a",
   "metadata": {},
   "outputs": [
    {
     "name": "stdout",
     "output_type": "stream",
     "text": [
      "Original Stress Vector: [0.24560948 0.         0.         0.         0.         0.        ]\n",
      "Rotated Stress Vector: [0.22915676 0.01645272 0.         0.         0.         0.06140237]\n",
      "Strain components:\n",
      "[ 1.70420105 -0.47852666 -1.03059614  0.          0.          0.78551088]\n"
     ]
    }
   ],
   "source": [
    "# Rotation angle (15 degrees clockwise)\n",
    "theta_deg = -15\n",
    "theta_rad = np.radians(theta_deg)\n",
    "s_22 = s_12 = 0\n",
    "\n",
    "# Rotation matrix around the z-axis\n",
    "s11r = s_11 * np.cos(theta_rad)**2\n",
    "s22r = s_11 * np.sin(theta_rad)**2\n",
    "s12r = - s_11 * np.sin(theta_rad) * np.cos(theta_rad)\n",
    "\n",
    "# Rotated stress component in 2D\n",
    "sr = np.array([s11r, s22r, 0, 0, 0, s12r])\n",
    "\n",
    "# Output the results\n",
    "print(\"Original Stress Vector:\", sigma)\n",
    "print(\"Rotated Stress Vector:\", sr)\n",
    "\n",
    "epsilon = np.dot(C_t, sr)\n",
    "print(\"Strain components:\")\n",
    "print(epsilon)"
   ]
  },
  {
   "cell_type": "markdown",
   "id": "d7d7f44c-f88a-4096-bb78-23adb1343232",
   "metadata": {},
   "source": [
    "Using Hooke's Law: \n",
    "$$ \\varepsilon = C^{-1} \\cdot \\sigma = [1.755 \\hspace{0.5cm} -0.478 \\hspace{0.5cm} -1.03 \\hspace{0.5cm} 0 \\hspace{0.5cm} 0 \\hspace{0.5cm} 0.785]^T$$\n",
    "\n",
    "Stress and strain tensor of  trabecular bone:\n",
    "\n",
    "Stress Tensor: \n",
    "$$\\sigma = \\begin{bmatrix}\n",
    "0.23 &  0.061 & 0 \\\\\n",
    "0 & 0.016 & 0 \\\\\n",
    "0 & 0 & 0\n",
    "\\end{bmatrix}\n",
    "\\hspace{0.5cm} \\text{MPa}\n",
    "$$\n",
    "\n",
    "Strain Tensor: \n",
    "$$\\varepsilon = \\begin{bmatrix}\n",
    "1.755 & 0.785 & 0 \\\\\n",
    "0 & -0.478 & 0 \\\\\n",
    "0 & 0 & -1.03\n",
    "\\end{bmatrix}\n",
    "\\hspace{0.5cm}\n",
    "$$\n"
   ]
  },
  {
   "cell_type": "code",
   "execution_count": 39,
   "id": "e9bd96ed-f764-4b6a-ba5d-a4d8642e6e3e",
   "metadata": {},
   "outputs": [
    {
     "name": "stdout",
     "output_type": "stream",
     "text": [
      "Total Load carried by Cortical Bone: 181.82 N\n",
      "Total Load carried by Trabecular Bone: 68.18 N\n",
      "Total Load: 250.00 N (should be 250 N)\n",
      "Stress in cortical bone without trabecular bone: 1.05 MPa\n"
     ]
    }
   ],
   "source": [
    "# Given Young's modulus\n",
    "E_c = 20e3  # MPa (Cortical)\n",
    "E_t = 7.5e3  # MPa (Trabecular)\n",
    "\n",
    "# Compute the stress in each compartment\n",
    "sigma_11_c = (E_c / (E_c + E_t)) * s11  # Cortical stress\n",
    "sigma_11_t = (E_t / (E_c + E_t)) * s_11  # Trabecular stress\n",
    "\n",
    "# Compute the load carried by each compartment\n",
    "F_c = sigma_11_c * A_c\n",
    "F_t = sigma_11_t * A_t\n",
    "\n",
    "# Output\n",
    "print(f\"Total Load carried by Cortical Bone: {F_c:.2f} N\")\n",
    "print(f\"Total Load carried by Trabecular Bone: {F_t:.2f} N\")\n",
    "\n",
    "# Check if sum is equal to total load P\n",
    "print(f\"Total Load: {F_c + F_t:.2f} N (should be 250 N)\")\n",
    "\n",
    "# Compute stress in cortical bone if trabecular bone is removed\n",
    "sigma_11_c = P / A_c\n",
    "print(f\"Stress in cortical bone without trabecular bone: {sigma_11_c:.2f} MPa\")\n"
   ]
  },
  {
   "cell_type": "code",
   "execution_count": 51,
   "id": "fc42890d-61ac-4dac-9ff1-c49e343ecc59",
   "metadata": {},
   "outputs": [
    {
     "name": "stdout",
     "output_type": "stream",
     "text": [
      "Stress in Cortical Bone (aged):  2.2007044122220027 MPa\n",
      "Stress in Trabecular Bone (aged):  0.161467152718829 MPa\n"
     ]
    }
   ],
   "source": [
    "# Simulating aging\n",
    "ro_a = 23 # mm\n",
    "ri_a = 22.2 # mm\n",
    "t_a = 0.8 # mm\n",
    "rho_a = 0.0002 # g/mm^3 for trabecular bone\n",
    "\n",
    "# Area of cortical bone\n",
    "Ac_a = math.pi * (ro_a**2- ri_a**2)\n",
    "# Area of trabecular bone \n",
    "At_a = math.pi * ri_a**2\n",
    "\n",
    "# Stress on cortical and trabecular bone\n",
    "s_11ac = P / Ac_a\n",
    "s_11at = P / At_a\n",
    "\n",
    "print(\"Stress in Cortical Bone (aged): \", s_11ac, \"MPa\")\n",
    "print(\"Stress in Trabecular Bone (aged): \", s_11at, \"MPa\")"
   ]
  },
  {
   "cell_type": "code",
   "execution_count": 41,
   "id": "9c2019b8-ff98-4a46-a706-ca2ad701f24f",
   "metadata": {},
   "outputs": [
    {
     "name": "stdout",
     "output_type": "stream",
     "text": [
      "Strain components:\n",
      "[ 1.10035221e-04 -3.30105662e-05 -3.30105662e-05  0.00000000e+00\n",
      "  0.00000000e+00  0.00000000e+00]\n"
     ]
    }
   ],
   "source": [
    "# Compliance matrix for Cortical Bone\n",
    "Ca_c = np.array([\n",
    "    [1/E1, -nu1/E1, -nu1/E2, 0, 0, 0],\n",
    "    [-nu1/E1, 1/E2, -nu2/E2, 0, 0, 0],\n",
    "    [-nu1/E1, -nu2/E2, 1/E2, 0, 0, 0],\n",
    "    [0, 0, 0, 1/(2*mu2), 0, 0],\n",
    "    [0, 0, 0, 0, 1/(2*mu1), 0],\n",
    "    [0, 0, 0, 0, 0, 1/(2*mu1)]\n",
    "])\n",
    "s_ac = np.array([s_11ac, 0, 0, 0, 0, 0])\n",
    "epsilon_ac = np.dot(Ca_c, s_ac)\n",
    "print(\"Strain components:\")\n",
    "print(epsilon_ac)"
   ]
  },
  {
   "cell_type": "markdown",
   "id": "362d5aa8-5fe7-490a-b0df-0976b11e56cf",
   "metadata": {},
   "source": [
    "Using Hooke's Law: \n",
    "$$ \\varepsilon = C^{-1} \\cdot \\sigma = [1.1 \\cdot 10^{-4} \\hspace{0.5cm} -3.3 \\cdot 10^{-5} \\hspace{0.5cm} -3.3 \\cdot 10^{-5} \\hspace{0.5cm} 0 \\hspace{0.5cm} 0 \\hspace{0.5cm} 0]^T$$\n",
    "\n",
    "Stress and strain tensor in aged cortical bone:\n",
    "\n",
    "Stress Tensor: \n",
    "$$\\sigma = \\begin{bmatrix}\n",
    "2.2 & 0 & 0 \\\\\n",
    "0 & 0 & 0 \\\\\n",
    "0 & 0 & 0\n",
    "\\end{bmatrix}\n",
    "\\hspace{0.5cm} \\text{MPa}\n",
    "$$\n",
    "\n",
    "Strain Tensor: \n",
    "$$\\varepsilon = \\begin{bmatrix}\n",
    "1.1 \\cdot 10^{-4} & 0 & 0 \\\\\n",
    "0 & -3.3 \\cdot 10^{-5} & 0 \\\\\n",
    "0 & 0 & -3.3 \\cdot 10^{-5}\n",
    "\\end{bmatrix}\n",
    "\\hspace{0.5cm}\n",
    "$$"
   ]
  },
  {
   "cell_type": "code",
   "execution_count": 50,
   "id": "ec9d08d6-afad-41ac-9b8f-962f90719234",
   "metadata": {},
   "outputs": [
    {
     "name": "stdout",
     "output_type": "stream",
     "text": [
      "Stress in Trabecular Bone (aged):  0.161467152718829 MPa\n",
      "Strain components:\n",
      "[ 1.10035221e-04 -3.30105662e-05 -3.30105662e-05  0.00000000e+00\n",
      "  0.00000000e+00  0.00000000e+00]\n",
      "Fracture Risk Factor (RF) for cortical bone: 0.04401408824444006\n"
     ]
    }
   ],
   "source": [
    "# Compliance matrix for trabecular bone \n",
    "Ca_t = np.array([\n",
    "    [1/(E*rho_a**k * m1**2.6), -nu/(E*rho_a**k * m1**l * m2**l), -nu/(E*rho_a**k * m1**l * m3**l), 0, 0, 0],\n",
    "    [-nu/(E*rho_a**k * m1**l * m2**l), 1/(E*rho_a**k * m2**2.6), -nu/(E*rho_a**k * m2**l * m3**l), 0, 0, 0],\n",
    "    [-nu/(E*rho_a**k * m1**l * m3**l), -nu/(E*rho_a**k * m2**l * m3**l), 1/(E*rho_a**k * m3**2.6), 0, 0, 0],\n",
    "    [0, 0, 0, 1/(2*mu*rho_a**k * m2**l * m3**l), 0, 0],\n",
    "    [0, 0, 0, 0, 1/(2*mu*rho_a**k * m1**l * m3**l), 0],\n",
    "    [0, 0, 0, 0, 0, 1/(2*mu*rho_a**k * m1**l * m2**l)]\n",
    "])\n",
    "print(\"Stress in Trabecular Bone (aged): \", s_11at, \"MPa\")\n",
    "s_at = np.array([s_11at, 0, 0, 0, 0, 0])\n",
    "epsilon_at = np.dot(Ca_t, s_at)\n",
    "print(\"Strain components:\")\n",
    "print(epsilon_ac)\n",
    "\n",
    "# Risk Factor of cortical bone\n",
    "y = 50 # yield stress of the aged bone in MPa\n",
    "RF = s_11ac / y\n",
    "print(\"Fracture Risk Factor (RF) for cortical bone:\", RF)"
   ]
  },
  {
   "cell_type": "markdown",
   "id": "2863ceeb-a2f0-4b33-9d05-4f2f0bccee7b",
   "metadata": {},
   "source": [
    "Using Hooke's Law: \n",
    "$$ \\varepsilon = C^{-1} \\cdot \\sigma = [1.1 \\cdot 10^{-4} \\hspace{0.5cm} -3.3 \\cdot 10^{-5} \\hspace{0.5cm} -3.3 \\cdot 10^{-5} \\hspace{0.5cm} 0 \\hspace{0.5cm} 0 \\hspace{0.5cm} 0]^T$$\n",
    "\n",
    "Stress and strain tensor in aged  trabecular bone:\n",
    "\n",
    "Stress Tensor: \n",
    "$$\\sigma = \\begin{bmatrix}\n",
    "0.16 & 0 & 0 \\\\\n",
    "0 & 0 & 0 \\\\\n",
    "0 & 0 & 0\n",
    "\\end{bmatrix}\n",
    "\\hspace{0.5cm} \\text{MPa}\n",
    "$$\n",
    "\n",
    "Strain Tensor: \n",
    "$$\\varepsilon = \\begin{bmatrix}\n",
    "1.1 \\cdot 10^{-4} & 0 & 0 \\\\\n",
    "0 & -3.3 \\cdot 10^{-5} & 0 \\\\\n",
    "0 & 0 & -3.3 \\cdot 10^{-5}\n",
    "\\end{bmatrix}\n",
    "\\hspace{0.5cm}\n",
    "$$"
   ]
  },
  {
   "cell_type": "markdown",
   "id": "b7e8860e-2255-4722-8e88-961c22d597a3",
   "metadata": {},
   "source": [
    "Defining a fracture risk factor for cortical bone as:\n",
    "$$ RF = \\frac{\\text{Max. stress (MPa)}}{\\text{Yield stress (MPa)}}$$\n",
    "where the yield stress of the aged bone specimen is 50 MPa risk factor would be: \n",
    "$$ RF = \\frac{\\sigma_{cortical}}{\\text{Yield stress (MPa)}} = \\frac{2.2 MPa}{\\text{Yield stress (MPa)}} = 0.044$$"
   ]
  }
 ],
 "metadata": {
  "kernelspec": {
   "display_name": "Python 3 (ipykernel)",
   "language": "python",
   "name": "python3"
  },
  "language_info": {
   "codemirror_mode": {
    "name": "ipython",
    "version": 3
   },
   "file_extension": ".py",
   "mimetype": "text/x-python",
   "name": "python",
   "nbconvert_exporter": "python",
   "pygments_lexer": "ipython3",
   "version": "3.10.12"
  }
 },
 "nbformat": 4,
 "nbformat_minor": 5
}
